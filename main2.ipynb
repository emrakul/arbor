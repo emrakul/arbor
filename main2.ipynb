{
 "cells": [
  {
   "cell_type": "code",
   "execution_count": 21,
   "metadata": {},
   "outputs": [
    {
     "name": "stdout",
     "output_type": "stream",
     "text": [
      "Collecting perlin_noise\n",
      "  Downloading perlin_noise-1.12-py3-none-any.whl (5.3 kB)\n",
      "Installing collected packages: perlin_noise\n",
      "Successfully installed perlin_noise-1.12\n",
      "\n",
      "\u001b[1m[\u001b[0m\u001b[34;49mnotice\u001b[0m\u001b[1;39;49m]\u001b[0m\u001b[39;49m A new release of pip available: \u001b[0m\u001b[31;49m22.2.2\u001b[0m\u001b[39;49m -> \u001b[0m\u001b[32;49m22.3\u001b[0m\n",
      "\u001b[1m[\u001b[0m\u001b[34;49mnotice\u001b[0m\u001b[1;39;49m]\u001b[0m\u001b[39;49m To update, run: \u001b[0m\u001b[32;49mpip install --upgrade pip\u001b[0m\n"
     ]
    }
   ],
   "source": [
    "!pip install perlin_noise"
   ]
  },
  {
   "cell_type": "code",
   "execution_count": 23,
   "metadata": {},
   "outputs": [],
   "source": [
    "import numpy as np\n",
    "import random\n",
    "import perlin_noise\n",
    "import matplotlib.pyplot as plt"
   ]
  },
  {
   "cell_type": "code",
   "execution_count": 2,
   "metadata": {},
   "outputs": [],
   "source": [
    "term = ['fire', 'ice', 'elec']\n",
    "verb = ['put', 'throw', 'rotate', 'zap']\n",
    "adverb = ['fast', 'slow', 'sine']\n",
    "adject = [x+'ical' for x in term] + ['shieldly', 'bad']\n",
    "\n",
    "\n",
    "\n",
    "\n",
    "\n"
   ]
  },
  {
   "cell_type": "code",
   "execution_count": 61,
   "metadata": {},
   "outputs": [
    {
     "data": {
      "image/png": "[encoded data removed]",
      "text/plain": [
       "<Figure size 640x480 with 1 Axes>"
      ]
     },
     "metadata": {},
     "output_type": "display_data"
    }
   ],
   "source": [
    "noiser = perlin_noise.PerlinNoise(2)\n",
    "xpix, ypix = 32, 32\n",
    "pic = [[int(noiser([i/xpix, j/ypix])*8+4) for j in range(xpix)] for i in range(ypix)]\n",
    "\n",
    "plt.imshow(pic, cmap='gray')\n",
    "plt.show()"
   ]
  },
  {
   "cell_type": "code",
   "execution_count": 54,
   "metadata": {},
   "outputs": [
    {
     "data": {
      "text/plain": [
       "'44444555555544444333322222222333'"
      ]
     },
     "execution_count": 54,
     "metadata": {},
     "output_type": "execute_result"
    }
   ],
   "source": []
  },
  {
   "cell_type": "code",
   "execution_count": 56,
   "metadata": {},
   "outputs": [],
   "source": [
    "with open(\"res/maps/map02.txt\", \"w+\", encoding='ascii') as map_file:\n",
    "    result = ''\n",
    "    for j in range(32):\n",
    "        result += ''.join([str(i) for i in pic[j]])\n",
    "        result += '\\n'\n",
    "    map_file.write(result)\n"
   ]
  },
  {
   "cell_type": "code",
   "execution_count": 19,
   "metadata": {},
   "outputs": [],
   "source": []
  },
  {
   "cell_type": "code",
   "execution_count": 20,
   "metadata": {},
   "outputs": [
    {
     "name": "stdout",
     "output_type": "stream",
     "text": [
      "1133632161432062\n",
      "5311250135746561\n",
      "6124166466455164\n",
      "0260773157560236\n",
      "1702627263755561\n",
      "0622053220604536\n",
      "4537061362733442\n",
      "4266201771143613\n",
      "3276514076064347\n",
      "2250600336433235\n",
      "2705110611733256\n",
      "6676173011507772\n",
      "6726601322342461\n",
      "6602653020327261\n",
      "1163054517614212\n",
      "5341004752246475\n",
      "\n"
     ]
    }
   ],
   "source": [
    "print(result)\n",
    "    "
   ]
  },
  {
   "cell_type": "code",
   "execution_count": null,
   "metadata": {},
   "outputs": [],
   "source": []
  }
 ],
 "metadata": {
  "kernelspec": {
   "display_name": "Python 3.10.7 ('venv')",
   "language": "python",
   "name": "python3"
  },
  "language_info": {
   "codemirror_mode": {
    "name": "ipython",
    "version": 3
   },
   "file_extension": ".py",
   "mimetype": "text/x-python",
   "name": "python",
   "nbconvert_exporter": "python",
   "pygments_lexer": "ipython3",
   "version": "3.10.8"
  },
  "orig_nbformat": 4,
  "vscode": {
   "interpreter": {
    "hash": "7fd949f43caac0f2068892c27c1c66340460cb38bf9d2b065a617b577a92922b"
   }
  }
 },
 "nbformat": 4,
 "nbformat_minor": 2
}
